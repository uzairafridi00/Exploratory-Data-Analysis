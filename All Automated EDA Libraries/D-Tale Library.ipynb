{
 "cells": [
  {
   "cell_type": "code",
   "execution_count": 1,
   "id": "12bcce1a",
   "metadata": {},
   "outputs": [
    {
     "name": "stdout",
     "output_type": "stream",
     "text": [
      "Requirement already satisfied: dtale in c:\\users\\n\\anaconda3\\lib\\site-packages (3.10.0)\n",
      "Requirement already satisfied: dash-colorscales in c:\\users\\n\\anaconda3\\lib\\site-packages (from dtale) (0.0.4)\n",
      "Requirement already satisfied: dash-daq in c:\\users\\n\\anaconda3\\lib\\site-packages (from dtale) (0.5.0)\n",
      "Requirement already satisfied: Flask-Compress in c:\\users\\n\\anaconda3\\lib\\site-packages (from dtale) (1.14)\n",
      "Requirement already satisfied: future>=0.14.0 in c:\\users\\n\\anaconda3\\lib\\site-packages (from dtale) (0.18.3)\n",
      "Requirement already satisfied: kaleido in c:\\users\\n\\anaconda3\\lib\\site-packages (from dtale) (0.2.1)\n",
      "Requirement already satisfied: missingno in c:\\users\\n\\anaconda3\\lib\\site-packages (from dtale) (0.5.2)\n",
      "Requirement already satisfied: pandas in c:\\users\\n\\anaconda3\\lib\\site-packages (from dtale) (2.0.3)\n",
      "Requirement already satisfied: squarify in c:\\users\\n\\anaconda3\\lib\\site-packages (from dtale) (0.4.3)\n",
      "Requirement already satisfied: strsimpy in c:\\users\\n\\anaconda3\\lib\\site-packages (from dtale) (0.2.1)\n",
      "Requirement already satisfied: six in c:\\users\\n\\anaconda3\\lib\\site-packages (from dtale) (1.16.0)\n",
      "Requirement already satisfied: xlrd in c:\\users\\n\\anaconda3\\lib\\site-packages (from dtale) (2.0.1)\n",
      "Requirement already satisfied: beautifulsoup4 in c:\\users\\n\\anaconda3\\lib\\site-packages (from dtale) (4.12.2)\n",
      "Requirement already satisfied: certifi in c:\\users\\n\\anaconda3\\lib\\site-packages (from dtale) (2023.7.22)\n",
      "Requirement already satisfied: flask-ngrok in c:\\users\\n\\anaconda3\\lib\\site-packages (from dtale) (0.0.25)\n",
      "Requirement already satisfied: lz4 in c:\\users\\n\\anaconda3\\lib\\site-packages (from dtale) (4.3.2)\n",
      "Requirement already satisfied: cycler in c:\\users\\n\\anaconda3\\lib\\site-packages (from dtale) (0.11.0)\n",
      "Requirement already satisfied: dash-bootstrap-components<=1.3.1 in c:\\users\\n\\anaconda3\\lib\\site-packages (from dtale) (1.3.1)\n",
      "Requirement already satisfied: dash in c:\\users\\n\\anaconda3\\lib\\site-packages (from dtale) (2.15.0)\n",
      "Requirement already satisfied: seaborn in c:\\users\\n\\anaconda3\\lib\\site-packages (from dtale) (0.12.2)\n",
      "Requirement already satisfied: statsmodels in c:\\users\\n\\anaconda3\\lib\\site-packages (from dtale) (0.14.0)\n",
      "Requirement already satisfied: werkzeug in c:\\users\\n\\anaconda3\\lib\\site-packages (from dtale) (2.2.3)\n",
      "Requirement already satisfied: networkx in c:\\users\\n\\anaconda3\\lib\\site-packages (from dtale) (3.1)\n",
      "Requirement already satisfied: scikit-learn in c:\\users\\n\\anaconda3\\lib\\site-packages (from dtale) (1.3.0)\n",
      "Requirement already satisfied: numpy in c:\\users\\n\\anaconda3\\lib\\site-packages (from dtale) (1.24.3)\n",
      "Requirement already satisfied: openpyxl!=3.2.0b1 in c:\\users\\n\\anaconda3\\lib\\site-packages (from dtale) (3.0.10)\n",
      "Requirement already satisfied: xarray in c:\\users\\n\\anaconda3\\lib\\site-packages (from dtale) (2023.6.0)\n",
      "Requirement already satisfied: et-xmlfile in c:\\users\\n\\anaconda3\\lib\\site-packages (from dtale) (1.1.0)\n",
      "Requirement already satisfied: plotly in c:\\users\\n\\anaconda3\\lib\\site-packages (from dtale) (5.9.0)\n",
      "Requirement already satisfied: Flask<2.3 in c:\\users\\n\\anaconda3\\lib\\site-packages (from dtale) (2.2.2)\n",
      "Requirement already satisfied: itsdangerous in c:\\users\\n\\anaconda3\\lib\\site-packages (from dtale) (2.0.1)\n",
      "Requirement already satisfied: requests in c:\\users\\n\\anaconda3\\lib\\site-packages (from dtale) (2.31.0)\n",
      "Requirement already satisfied: contourpy in c:\\users\\n\\anaconda3\\lib\\site-packages (from dtale) (1.0.5)\n",
      "Requirement already satisfied: matplotlib in c:\\users\\n\\anaconda3\\lib\\site-packages (from dtale) (3.7.2)\n",
      "Requirement already satisfied: scipy!=1.12.0rc1 in c:\\users\\n\\anaconda3\\lib\\site-packages (from dtale) (1.11.1)\n",
      "Requirement already satisfied: dash-html-components==2.0.0 in c:\\users\\n\\anaconda3\\lib\\site-packages (from dash->dtale) (2.0.0)\n",
      "Requirement already satisfied: dash-core-components==2.0.0 in c:\\users\\n\\anaconda3\\lib\\site-packages (from dash->dtale) (2.0.0)\n",
      "Requirement already satisfied: dash-table==5.0.0 in c:\\users\\n\\anaconda3\\lib\\site-packages (from dash->dtale) (5.0.0)\n",
      "Requirement already satisfied: typing-extensions>=4.1.1 in c:\\users\\n\\anaconda3\\lib\\site-packages (from dash->dtale) (4.7.1)\n",
      "Requirement already satisfied: retrying in c:\\users\\n\\anaconda3\\lib\\site-packages (from dash->dtale) (1.3.4)\n",
      "Requirement already satisfied: nest-asyncio in c:\\users\\n\\anaconda3\\lib\\site-packages (from dash->dtale) (1.5.6)\n",
      "Requirement already satisfied: setuptools in c:\\users\\n\\anaconda3\\lib\\site-packages (from dash->dtale) (68.0.0)\n",
      "Requirement already satisfied: importlib-metadata in c:\\users\\n\\anaconda3\\lib\\site-packages (from dash->dtale) (6.0.0)\n",
      "Requirement already satisfied: Jinja2>=3.0 in c:\\users\\n\\anaconda3\\lib\\site-packages (from Flask<2.3->dtale) (3.1.2)\n",
      "Requirement already satisfied: click>=8.0 in c:\\users\\n\\anaconda3\\lib\\site-packages (from Flask<2.3->dtale) (8.0.4)\n",
      "Requirement already satisfied: tenacity>=6.2.0 in c:\\users\\n\\anaconda3\\lib\\site-packages (from plotly->dtale) (8.2.2)\n",
      "Requirement already satisfied: MarkupSafe>=2.1.1 in c:\\users\\n\\anaconda3\\lib\\site-packages (from werkzeug->dtale) (2.1.1)\n",
      "Requirement already satisfied: soupsieve>1.2 in c:\\users\\n\\anaconda3\\lib\\site-packages (from beautifulsoup4->dtale) (2.4)\n",
      "Requirement already satisfied: brotli in c:\\users\\n\\anaconda3\\lib\\site-packages (from Flask-Compress->dtale) (1.1.0)\n",
      "Requirement already satisfied: fonttools>=4.22.0 in c:\\users\\n\\anaconda3\\lib\\site-packages (from matplotlib->dtale) (4.25.0)\n",
      "Requirement already satisfied: kiwisolver>=1.0.1 in c:\\users\\n\\anaconda3\\lib\\site-packages (from matplotlib->dtale) (1.4.4)\n",
      "Requirement already satisfied: packaging>=20.0 in c:\\users\\n\\anaconda3\\lib\\site-packages (from matplotlib->dtale) (23.1)\n",
      "Requirement already satisfied: pillow>=6.2.0 in c:\\users\\n\\anaconda3\\lib\\site-packages (from matplotlib->dtale) (9.4.0)\n",
      "Requirement already satisfied: pyparsing<3.1,>=2.3.1 in c:\\users\\n\\anaconda3\\lib\\site-packages (from matplotlib->dtale) (3.0.9)\n",
      "Requirement already satisfied: python-dateutil>=2.7 in c:\\users\\n\\anaconda3\\lib\\site-packages (from matplotlib->dtale) (2.8.2)\n",
      "Requirement already satisfied: pytz>=2020.1 in c:\\users\\n\\anaconda3\\lib\\site-packages (from pandas->dtale) (2023.3.post1)\n",
      "Requirement already satisfied: tzdata>=2022.1 in c:\\users\\n\\anaconda3\\lib\\site-packages (from pandas->dtale) (2023.3)\n",
      "Requirement already satisfied: charset-normalizer<4,>=2 in c:\\users\\n\\anaconda3\\lib\\site-packages (from requests->dtale) (2.0.4)\n",
      "Requirement already satisfied: idna<4,>=2.5 in c:\\users\\n\\anaconda3\\lib\\site-packages (from requests->dtale) (3.4)\n",
      "Requirement already satisfied: urllib3<3,>=1.21.1 in c:\\users\\n\\anaconda3\\lib\\site-packages (from requests->dtale) (1.26.16)\n",
      "Requirement already satisfied: joblib>=1.1.1 in c:\\users\\n\\anaconda3\\lib\\site-packages (from scikit-learn->dtale) (1.1.1)\n",
      "Requirement already satisfied: threadpoolctl>=2.0.0 in c:\\users\\n\\anaconda3\\lib\\site-packages (from scikit-learn->dtale) (2.2.0)\n",
      "Requirement already satisfied: patsy>=0.5.2 in c:\\users\\n\\anaconda3\\lib\\site-packages (from statsmodels->dtale) (0.5.3)\n",
      "Requirement already satisfied: colorama in c:\\users\\n\\anaconda3\\lib\\site-packages (from click>=8.0->Flask<2.3->dtale) (0.4.6)\n",
      "Requirement already satisfied: zipp>=0.5 in c:\\users\\n\\anaconda3\\lib\\site-packages (from importlib-metadata->dash->dtale) (3.11.0)\n"
     ]
    }
   ],
   "source": [
    "!pip install dtale"
   ]
  },
  {
   "cell_type": "markdown",
   "id": "1ae2fa8f",
   "metadata": {},
   "source": [
    "# Dtale\n",
    "\n",
    "Web Client for visualizing the Pandas Objects\n",
    "\n",
    "You can also get code from this"
   ]
  },
  {
   "cell_type": "code",
   "execution_count": 2,
   "id": "e654173a",
   "metadata": {},
   "outputs": [],
   "source": [
    "import seaborn as sns"
   ]
  },
  {
   "cell_type": "code",
   "execution_count": 3,
   "id": "43c08e3e",
   "metadata": {},
   "outputs": [
    {
     "name": "stdout",
     "output_type": "stream",
     "text": [
      "['anagrams', 'anscombe', 'attention', 'brain_networks', 'car_crashes', 'diamonds', 'dots', 'dowjones', 'exercise', 'flights', 'fmri', 'geyser', 'glue', 'healthexp', 'iris', 'mpg', 'penguins', 'planets', 'seaice', 'taxis', 'tips', 'titanic']\n"
     ]
    }
   ],
   "source": [
    "print(sns.get_dataset_names())"
   ]
  },
  {
   "cell_type": "code",
   "execution_count": 4,
   "id": "3b50e7ce",
   "metadata": {},
   "outputs": [
    {
     "data": {
      "text/html": [
       "<div>\n",
       "<style scoped>\n",
       "    .dataframe tbody tr th:only-of-type {\n",
       "        vertical-align: middle;\n",
       "    }\n",
       "\n",
       "    .dataframe tbody tr th {\n",
       "        vertical-align: top;\n",
       "    }\n",
       "\n",
       "    .dataframe thead th {\n",
       "        text-align: right;\n",
       "    }\n",
       "</style>\n",
       "<table border=\"1\" class=\"dataframe\">\n",
       "  <thead>\n",
       "    <tr style=\"text-align: right;\">\n",
       "      <th></th>\n",
       "      <th>method</th>\n",
       "      <th>number</th>\n",
       "      <th>orbital_period</th>\n",
       "      <th>mass</th>\n",
       "      <th>distance</th>\n",
       "      <th>year</th>\n",
       "    </tr>\n",
       "  </thead>\n",
       "  <tbody>\n",
       "    <tr>\n",
       "      <th>0</th>\n",
       "      <td>Radial Velocity</td>\n",
       "      <td>1</td>\n",
       "      <td>269.300</td>\n",
       "      <td>7.10</td>\n",
       "      <td>77.40</td>\n",
       "      <td>2006</td>\n",
       "    </tr>\n",
       "    <tr>\n",
       "      <th>1</th>\n",
       "      <td>Radial Velocity</td>\n",
       "      <td>1</td>\n",
       "      <td>874.774</td>\n",
       "      <td>2.21</td>\n",
       "      <td>56.95</td>\n",
       "      <td>2008</td>\n",
       "    </tr>\n",
       "    <tr>\n",
       "      <th>2</th>\n",
       "      <td>Radial Velocity</td>\n",
       "      <td>1</td>\n",
       "      <td>763.000</td>\n",
       "      <td>2.60</td>\n",
       "      <td>19.84</td>\n",
       "      <td>2011</td>\n",
       "    </tr>\n",
       "    <tr>\n",
       "      <th>3</th>\n",
       "      <td>Radial Velocity</td>\n",
       "      <td>1</td>\n",
       "      <td>326.030</td>\n",
       "      <td>19.40</td>\n",
       "      <td>110.62</td>\n",
       "      <td>2007</td>\n",
       "    </tr>\n",
       "    <tr>\n",
       "      <th>4</th>\n",
       "      <td>Radial Velocity</td>\n",
       "      <td>1</td>\n",
       "      <td>516.220</td>\n",
       "      <td>10.50</td>\n",
       "      <td>119.47</td>\n",
       "      <td>2009</td>\n",
       "    </tr>\n",
       "  </tbody>\n",
       "</table>\n",
       "</div>"
      ],
      "text/plain": [
       "            method  number  orbital_period   mass  distance  year\n",
       "0  Radial Velocity       1         269.300   7.10     77.40  2006\n",
       "1  Radial Velocity       1         874.774   2.21     56.95  2008\n",
       "2  Radial Velocity       1         763.000   2.60     19.84  2011\n",
       "3  Radial Velocity       1         326.030  19.40    110.62  2007\n",
       "4  Radial Velocity       1         516.220  10.50    119.47  2009"
      ]
     },
     "execution_count": 4,
     "metadata": {},
     "output_type": "execute_result"
    }
   ],
   "source": [
    "df = sns.load_dataset('planets')\n",
    "df.head()"
   ]
  },
  {
   "cell_type": "code",
   "execution_count": 5,
   "id": "2e2dcf0e",
   "metadata": {},
   "outputs": [],
   "source": [
    "import dtale"
   ]
  },
  {
   "cell_type": "code",
   "execution_count": 6,
   "id": "0631e997",
   "metadata": {},
   "outputs": [
    {
     "data": {
      "text/html": [
       "\n",
       "        <iframe\n",
       "            width=\"100%\"\n",
       "            height=\"475\"\n",
       "            src=\"http://Uzair:40000/dtale/iframe/1\"\n",
       "            frameborder=\"0\"\n",
       "            allowfullscreen\n",
       "            \n",
       "        ></iframe>\n",
       "        "
      ],
      "text/plain": [
       "<IPython.lib.display.IFrame at 0x18ee164c690>"
      ]
     },
     "metadata": {},
     "output_type": "display_data"
    },
    {
     "data": {
      "text/plain": []
     },
     "execution_count": 6,
     "metadata": {},
     "output_type": "execute_result"
    }
   ],
   "source": [
    "dtale.show(df)"
   ]
  },
  {
   "cell_type": "code",
   "execution_count": null,
   "id": "5e41cf71",
   "metadata": {},
   "outputs": [],
   "source": []
  }
 ],
 "metadata": {
  "kernelspec": {
   "display_name": "Python 3 (ipykernel)",
   "language": "python",
   "name": "python3"
  },
  "language_info": {
   "codemirror_mode": {
    "name": "ipython",
    "version": 3
   },
   "file_extension": ".py",
   "mimetype": "text/x-python",
   "name": "python",
   "nbconvert_exporter": "python",
   "pygments_lexer": "ipython3",
   "version": "3.11.5"
  }
 },
 "nbformat": 4,
 "nbformat_minor": 5
}
