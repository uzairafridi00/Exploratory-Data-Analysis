{
 "cells": [
  {
   "cell_type": "markdown",
   "id": "043cce9d",
   "metadata": {},
   "source": [
    "# Advanced Housing Prices- Feature Engineering\n",
    "The main aim of this project is to predict the house price based on various features which we will discuss as we go ahead\n",
    "\n",
    "### Dataset to downloaded from the below link\n",
    "https://www.kaggle.com/c/house-prices-advanced-regression-techniques/data\n",
    "\n",
    "We will be performing all the below steps in Feature Engineering\n",
    "\n",
    "1. Missing values\n",
    "2. Temporal variables\n",
    "3. Categorical variables: remove rare labels\n",
    "4. Standarise the values of the variables to the same range"
   ]
  },
  {
   "cell_type": "code",
   "execution_count": null,
   "id": "fd56891c",
   "metadata": {},
   "outputs": [],
   "source": []
  }
 ],
 "metadata": {
  "kernelspec": {
   "display_name": "Python 3 (ipykernel)",
   "language": "python",
   "name": "python3"
  },
  "language_info": {
   "codemirror_mode": {
    "name": "ipython",
    "version": 3
   },
   "file_extension": ".py",
   "mimetype": "text/x-python",
   "name": "python",
   "nbconvert_exporter": "python",
   "pygments_lexer": "ipython3",
   "version": "3.11.5"
  }
 },
 "nbformat": 4,
 "nbformat_minor": 5
}
